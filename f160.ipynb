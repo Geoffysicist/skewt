{
  "cells": [
    {
      "cell_type": "markdown",
      "metadata": {
        "id": "view-in-github",
        "colab_type": "text"
      },
      "source": [
        "<a href=\"https://colab.research.google.com/github/Geoffysicist/skewt/blob/refactor/f160.ipynb\" target=\"_parent\"><img src=\"https://colab.research.google.com/assets/colab-badge.svg\" alt=\"Open In Colab\"/></a>"
      ]
    },
    {
      "cell_type": "markdown",
      "source": [
        "# f160.ipynb\n",
        "Create an F160 (skewT - logP) diagram from [BUFR 309052](https://vocabulary-manager.eumetsat.int/vocabularies/BUFR/WMO/32/TABLE_D/309052) sounding data."
      ],
      "metadata": {
        "id": "whPFivducIhU"
      }
    },
    {
      "cell_type": "code",
      "execution_count": 142,
      "metadata": {
        "id": "-etC53QnJgAt"
      },
      "outputs": [],
      "source": [
        "!pip install -q pybufrkit\n",
        "!pip install -q metpy\n",
        "\n",
        "import pandas as pd\n",
        "import numpy as np\n",
        "from pandas.core.frame import DataFrame\n",
        "from ipywidgets import FileUpload\n",
        "from IPython.display import display\n",
        "from traitlets.traitlets import Dict\n",
        "\n",
        "from pybufrkit.decoder import Decoder\n",
        "from pybufrkit.dataquery import NodePathParser, DataQuerent\n",
        "from pybufrkit.bufr import BufrMessage\n",
        "from pybufrkit.renderer import FlatJsonRenderer\n",
        "\n",
        "import matplotlib.pyplot as plt\n",
        "from mpl_toolkits.axes_grid1.inset_locator import inset_axes\n",
        "\n",
        "import metpy.calc as mpcalc\n",
        "from metpy.cbook import get_test_data\n",
        "from metpy.plots import Hodograph, SkewT\n",
        "from metpy.units import units, pandas_dataframe_to_unit_arrays\n",
        "\n",
        "BUFR_CODES_303054 = {\n",
        "  'time_offset': '004086', # Long time period or displacement (s)\n",
        "  'pressure': '007004', # Pressure (Pa)\n",
        "  'gph': '010009', # Geopotential height (m)\n",
        "  'lat_offset': '005015', # Latitude displacement (high accuracy) (deg)\n",
        "  'long_offset': '006015', # Longitude displacement (high accuracy) (deg)\n",
        "  'temp': '012101', # Temperature/air temperature (K)\n",
        "  'dewpoint': '012103', # Dewpoint temperature (K)\n",
        "  'wind_dir': '011001', # Wind direction (degree true)\n",
        "  'wind_speed': '011002', # Wind speed (m/s)\n",
        "}\n",
        "\n",
        "UNITS = {\n",
        "  'time_offset': units.second, # Long time period or displacement (s)\n",
        "  'pressure': units.pascal, # Pressure (Pa)\n",
        "  'gph': units.metre, # Geopotential height (m)\n",
        "  'lat_offset': units.degree_E, # Latitude displacement (high accuracy) (deg)\n",
        "  'long_offset': units.degree_N, # Longitude displacement (high accuracy) (deg)\n",
        "  'temp': units.kelvin, # Temperature/air temperature (K)\n",
        "  'dewpoint': units.kelvin, # Dewpoint temperature (K)\n",
        "  'wind_dir': units.degree_E, # Wind direction (degree true)\n",
        "  'wind_speed': units.meter / units.second, # Wind speed (m/s)  \n",
        "}\n"
      ]
    },
    {
      "cell_type": "code",
      "source": [
        "def decode_BUFR(file_upload: FileUpload) -> BufrMessage:\n",
        "  \"\"\"Decodes the raw BUFR file.\"\"\"\n",
        "  for uploaded_filename in file_upload.value:\n",
        "      data_stream = file_upload.value[uploaded_filename]['content'] \n",
        "  return Decoder().process(data_stream)\n",
        "\n",
        "def query_BUFR(message: BufrMessage) -> DataFrame:\n",
        "  \"\"\" Reads data from BUFR message into a dataframe.\"\"\"\n",
        "\n",
        "  readings = {}\n",
        "  for key, code in BUFR_CODES_303054.items():\n",
        "    data = DataQuerent(NodePathParser()).query(message, f'303054/{code}')\n",
        "    readings[key] = FlatJsonRenderer().render(data)[0]\n",
        "\n",
        "  readings_df = pd.DataFrame.from_dict(readings)\n",
        "  # clean the data\n",
        "  readings_df = readings_df.dropna() # remove rows with missing data\n",
        "  readings_df = readings_df.drop_duplicates(subset=\"pressure\") # need monotonically increasing pressure\n",
        "  return readings_df\n",
        "\n",
        "def barbs_get(readings: dict, diff: int=2000) -> tuple:\n",
        "  p_barbs = [] * units.pascal\n",
        "  u_barbs = [] * units.meter / units.second\n",
        "  v_barbs = [] * units.meter / units.second\n",
        "  p_last = 999999 * units.pascal\n",
        "  diff = diff * units.pascal\n",
        "  u, v = mpcalc.wind_components(readings['wind_speed'], readings['wind_dir'])\n",
        "  for i, p in enumerate(readings['pressure']):\n",
        "    if (p_last - p) >= diff:\n",
        "      p_barbs = np.append(p_barbs, p)\n",
        "      u_barbs = np.append(u_barbs, u[i])\n",
        "      v_barbs = np.append(v_barbs, v[i])\n",
        "      p_last = p\n",
        "  return p_barbs, u_barbs, v_barbs"
      ],
      "metadata": {
        "id": "0cpvxx-tglbz"
      },
      "execution_count": 153,
      "outputs": []
    },
    {
      "cell_type": "code",
      "source": [
        "uploads = FileUpload(accept='.bfr', multiple=True)\n",
        "display(uploads)"
      ],
      "metadata": {
        "colab": {
          "base_uri": "https://localhost:8080/",
          "height": 49,
          "referenced_widgets": [
            "a1ada928bf5240d7bbf14ea8d921eb7c",
            "682e3086301d4df685c445506538748b",
            "0e24289e0d2a42b3b2ac47efc51bf0b8"
          ]
        },
        "id": "HPzNt2ZguR40",
        "outputId": "863e92da-bfdc-43b2-9a8c-32a47918cb79"
      },
      "execution_count": 19,
      "outputs": [
        {
          "output_type": "display_data",
          "data": {
            "application/vnd.jupyter.widget-view+json": {
              "model_id": "a1ada928bf5240d7bbf14ea8d921eb7c",
              "version_minor": 0,
              "version_major": 2
            },
            "text/plain": [
              "FileUpload(value={}, accept='.bfr', description='Upload', multiple=True)"
            ]
          },
          "metadata": {}
        }
      ]
    },
    {
      "cell_type": "code",
      "source": [
        "bufr_message = decode_BUFR(uploads)\n",
        "readings_df = query_BUFR(bufr_message)\n",
        "readings = pandas_dataframe_to_unit_arrays(readings_df, UNITS)\n",
        "T_0 = readings['temp'][0]\n",
        "Td_0 = readings['dewpoint'][0]\n",
        "lcl_pressure, lcl_temperature = mpcalc.lcl(readings['pressure'][0],T_0, Td_0)\n",
        "parcel_prof = mpcalc.parcel_profile(readings['pressure'], T_0, Td_0).to('degC')\n",
        "u, v = mpcalc.wind_components(readings['wind_speed'], readings['wind_dir'])\n",
        "\n",
        "# # Create a new figure. The dimensions here give a good aspect ratio\n",
        "# fig = plt.figure(figsize=(12, 12))\n",
        "# # fig, ax1 = plt.subplots(figsize=(12, 12))\n",
        "# skew = SkewT(fig, rotation=30, aspect=120)\n",
        "\n",
        "# # Plot the data using normal plotting functions, in this case using\n",
        "# # log scaling in Y, as dictated by the typical meteorological plot\n",
        "# skew.plot(readings['pressure'], readings['temp'], 'r')\n",
        "# skew.plot(readings['pressure'], readings['dewpoint'], 'g')\n",
        "# # skew.plot_barbs(readings['pressure'], u, v)\n",
        "# skew.plot_barbs(*barbs_get(readings))\n",
        "# skew.ax.set_ylim(1000, 100)\n",
        "# skew.ax.set_xlim(-40, 60)\n",
        "\n",
        "# # Plot LCL temperature as black dot\n",
        "# skew.plot(lcl_pressure, lcl_temperature, 'ko', markerfacecolor='black')\n",
        "\n",
        "# # Plot the parcel profile as a black line\n",
        "# skew.plot(readings['pressure'], parcel_prof, 'k', linewidth=2)\n",
        "\n",
        "# # Shade areas of CAPE and CIN\n",
        "# skew.shade_cin(readings['pressure'], readings['temp'], parcel_prof, readings['dewpoint'])\n",
        "# skew.shade_cape(readings['pressure'], readings['temp'], parcel_prof)\n",
        "\n",
        "# # Plot a zero degree isotherm\n",
        "# skew.ax.axvline(0, color='c', linestyle='--', linewidth=2)\n",
        "\n",
        "# # Add the relevant special lines\n",
        "# skew.plot_dry_adiabats()\n",
        "# skew.plot_moist_adiabats()\n",
        "# skew.plot_mixing_lines()\n",
        "\n",
        "# plt.show()"
      ],
      "metadata": {
        "id": "fg2Uw1_fSZ2D"
      },
      "execution_count": 193,
      "outputs": []
    },
    {
      "cell_type": "code",
      "source": [
        "from ipywidgets import FloatSlider\n",
        "from IPython.display import display\n",
        "T_0 = np.float64(readings['temp'][0].to('degC'))\n",
        "t_0_slider = FloatSlider(value=T_0, min=-10, max=50)\n",
        "\n",
        "def t_slider_change(val):\n",
        "  Temp_0 = val\n",
        "  print(f\"{Temp_0.new} {T_0}\")\n",
        "\n",
        "t_0_slider.observe(t_slider_change, names='value')\n",
        "\n",
        "display(t_0_slider)"
      ],
      "metadata": {
        "id": "oEP81CifKMnW",
        "outputId": "342ba5d1-1f8d-479e-dea2-dd43c336b3cf",
        "colab": {
          "base_uri": "https://localhost:8080/",
          "height": 116,
          "referenced_widgets": [
            "0c35dcfd668a4133ad38ca65b566908b",
            "74d22cd327c8494c9d4bc97d779f4777",
            "0d5d8e00011c4da1a0f401fcdf7b4f06"
          ]
        }
      },
      "execution_count": 281,
      "outputs": [
        {
          "output_type": "display_data",
          "data": {
            "application/vnd.jupyter.widget-view+json": {
              "model_id": "0c35dcfd668a4133ad38ca65b566908b",
              "version_minor": 0,
              "version_major": 2
            },
            "text/plain": [
              "FloatSlider(value=24.390000000000043, max=50.0, min=-10.0)"
            ]
          },
          "metadata": {}
        },
        {
          "output_type": "stream",
          "name": "stdout",
          "text": [
            "24.2 24.390000000000043\n",
            "29.3 24.390000000000043\n",
            "29.0 24.390000000000043\n",
            "35.3 24.390000000000043\n"
          ]
        }
      ]
    },
    {
      "cell_type": "code",
      "source": [
        "\n",
        "import matplotlib.animation as animation\n",
        "# from matplotlib.widgets import Slider, Button\n",
        "# from ipywidgets import FloatSlider, AppLayout\n",
        "from IPython import display\n",
        "\n",
        "parcel_prof = mpcalc.parcel_profile(readings['pressure'], T_0, Td_0).to('degC')\n",
        "# T_initial = np.float64(readings['temp'][0].to('degC'))\n",
        "\n",
        "# def update_parcel_profile(T: float):\n",
        "#   T = T *units.degC\n",
        "#   parcel_prof = mpcalc.parcel_profile(readings['pressure'], T, Td_0).to('degC')\n",
        "#   parcel_plot.set_xdata(parcel_prof)\n",
        "#   # plt.draw()\n",
        "#   print(type(parcel_plot))\n",
        "#   # skew.draw()\n",
        "#   # skew.canvas.flush_events()\n",
        "#   # fig.canvas.draw_idle()\n",
        "#   # display.clear_output(wait=True)\n",
        "#   # display.display(plt.gcf())\n",
        "\n",
        "# Create a new figure. The dimensions here give a good aspect ratio\n",
        "fig = plt.figure(figsize=(12, 12))\n",
        "# fig, ax = plt.subplots(figsize=(12, 12))\n",
        "skew = SkewT(fig, rotation=30, aspect=120)\n",
        "\n",
        "\n",
        "# Plot the data using normal plotting functions, in this case using\n",
        "# log scaling in Y, as dictated by the typical meteorological plot\n",
        "skew.plot(readings['pressure'], readings['temp'], 'r')\n",
        "skew.plot(readings['pressure'], readings['dewpoint'], 'g')\n",
        "# skew.plot_barbs(readings['pressure'], u, v)\n",
        "skew.plot_barbs(*barbs_get(readings))\n",
        "skew.ax.set_ylim(1000, 100)\n",
        "skew.ax.set_xlim(-40, 60)\n",
        "\n",
        "# Plot LCL temperature as black dot\n",
        "skew.plot(lcl_pressure, lcl_temperature, 'ko', markerfacecolor='black')\n",
        "\n",
        "# Plot the parcel profile as a black line\n",
        "parcel_plot, = skew.plot(readings['pressure'], parcel_prof, 'k', linewidth=2)\n",
        "\n",
        "# Shade areas of CAPE and CIN\n",
        "skew.shade_cin(readings['pressure'], readings['temp'], parcel_prof, readings['dewpoint'])\n",
        "skew.shade_cape(readings['pressure'], readings['temp'], parcel_prof)\n",
        "\n",
        "# Plot a zero degree isotherm\n",
        "skew.ax.axvline(0, color='c', linestyle='--', linewidth=2)\n",
        "\n",
        "# Add the relevant special lines\n",
        "skew.plot_dry_adiabats()\n",
        "skew.plot_moist_adiabats()\n",
        "skew.plot_mixing_lines()\n",
        "\n",
        "display.display(plt.show())\n",
        "\n",
        "# def update(Surface_temp = 25.0):\n",
        "#   update_parcel_profile(Surface_temp)\n",
        "#   print(Surface_temp)\n",
        "  \n",
        "\n",
        "# interact(update, w=(-10, 50, 0.1));"
      ],
      "metadata": {
        "colab": {
          "base_uri": "https://localhost:8080/",
          "height": 438
        },
        "id": "WLZ0T63Debe1",
        "outputId": "6e13904f-cbcc-42e3-bd3e-ca1190fd5595"
      },
      "execution_count": 273,
      "outputs": [
        {
          "output_type": "error",
          "ename": "ValueError",
          "evalue": "ignored",
          "traceback": [
            "\u001b[0;31m---------------------------------------------------------------------------\u001b[0m",
            "\u001b[0;31mValueError\u001b[0m                                Traceback (most recent call last)",
            "\u001b[0;32m<ipython-input-273-0949af17a1ea>\u001b[0m in \u001b[0;36m<module>\u001b[0;34m()\u001b[0m\n\u001b[1;32m      5\u001b[0m \u001b[0;32mfrom\u001b[0m \u001b[0mIPython\u001b[0m \u001b[0;32mimport\u001b[0m \u001b[0mdisplay\u001b[0m\u001b[0;34m\u001b[0m\u001b[0;34m\u001b[0m\u001b[0m\n\u001b[1;32m      6\u001b[0m \u001b[0;34m\u001b[0m\u001b[0m\n\u001b[0;32m----> 7\u001b[0;31m \u001b[0mparcel_prof\u001b[0m \u001b[0;34m=\u001b[0m \u001b[0mmpcalc\u001b[0m\u001b[0;34m.\u001b[0m\u001b[0mparcel_profile\u001b[0m\u001b[0;34m(\u001b[0m\u001b[0mreadings\u001b[0m\u001b[0;34m[\u001b[0m\u001b[0;34m'pressure'\u001b[0m\u001b[0;34m]\u001b[0m\u001b[0;34m,\u001b[0m \u001b[0mT_0\u001b[0m\u001b[0;34m,\u001b[0m \u001b[0mTd_0\u001b[0m\u001b[0;34m)\u001b[0m\u001b[0;34m.\u001b[0m\u001b[0mto\u001b[0m\u001b[0;34m(\u001b[0m\u001b[0;34m'degC'\u001b[0m\u001b[0;34m)\u001b[0m\u001b[0;34m\u001b[0m\u001b[0;34m\u001b[0m\u001b[0m\n\u001b[0m\u001b[1;32m      8\u001b[0m \u001b[0;31m# T_initial = np.float64(readings['temp'][0].to('degC'))\u001b[0m\u001b[0;34m\u001b[0m\u001b[0;34m\u001b[0m\u001b[0;34m\u001b[0m\u001b[0m\n\u001b[1;32m      9\u001b[0m \u001b[0;34m\u001b[0m\u001b[0m\n",
            "\u001b[0;32m/usr/local/lib/python3.7/dist-packages/metpy/xarray.py\u001b[0m in \u001b[0;36mwrapper\u001b[0;34m(*args, **kwargs)\u001b[0m\n\u001b[1;32m   1214\u001b[0m \u001b[0;34m\u001b[0m\u001b[0m\n\u001b[1;32m   1215\u001b[0m             \u001b[0;31m# Evaluate inner calculation\u001b[0m\u001b[0;34m\u001b[0m\u001b[0;34m\u001b[0m\u001b[0;34m\u001b[0m\u001b[0m\n\u001b[0;32m-> 1216\u001b[0;31m             \u001b[0mresult\u001b[0m \u001b[0;34m=\u001b[0m \u001b[0mfunc\u001b[0m\u001b[0;34m(\u001b[0m\u001b[0;34m*\u001b[0m\u001b[0mbound_args\u001b[0m\u001b[0;34m.\u001b[0m\u001b[0margs\u001b[0m\u001b[0;34m,\u001b[0m \u001b[0;34m**\u001b[0m\u001b[0mbound_args\u001b[0m\u001b[0;34m.\u001b[0m\u001b[0mkwargs\u001b[0m\u001b[0;34m)\u001b[0m\u001b[0;34m\u001b[0m\u001b[0;34m\u001b[0m\u001b[0m\n\u001b[0m\u001b[1;32m   1217\u001b[0m \u001b[0;34m\u001b[0m\u001b[0m\n\u001b[1;32m   1218\u001b[0m             \u001b[0;31m# Wrap output based on match and match_unit\u001b[0m\u001b[0;34m\u001b[0m\u001b[0;34m\u001b[0m\u001b[0;34m\u001b[0m\u001b[0m\n",
            "\u001b[0;32m/usr/local/lib/python3.7/dist-packages/metpy/units.py\u001b[0m in \u001b[0;36mwrapper\u001b[0;34m(*args, **kwargs)\u001b[0m\n\u001b[1;32m    243\u001b[0m                         msg = (f'This function changed in {changed_version}--double check '\n\u001b[1;32m    244\u001b[0m                                'that the function is being called properly.\\n') + msg\n\u001b[0;32m--> 245\u001b[0;31m                 \u001b[0;32mraise\u001b[0m \u001b[0mValueError\u001b[0m\u001b[0;34m(\u001b[0m\u001b[0mmsg\u001b[0m\u001b[0;34m)\u001b[0m\u001b[0;34m\u001b[0m\u001b[0;34m\u001b[0m\u001b[0m\n\u001b[0m\u001b[1;32m    246\u001b[0m             \u001b[0;32mreturn\u001b[0m \u001b[0mfunc\u001b[0m\u001b[0;34m(\u001b[0m\u001b[0;34m*\u001b[0m\u001b[0margs\u001b[0m\u001b[0;34m,\u001b[0m \u001b[0;34m**\u001b[0m\u001b[0mkwargs\u001b[0m\u001b[0;34m)\u001b[0m\u001b[0;34m\u001b[0m\u001b[0;34m\u001b[0m\u001b[0m\n\u001b[1;32m    247\u001b[0m \u001b[0;34m\u001b[0m\u001b[0m\n",
            "\u001b[0;31mValueError\u001b[0m: This function changed in 1.0--double check that the function is being called properly.\n`parcel_profile` given arguments with incorrect units: `temperature` requires \"[temperature]\" but given \"none\"\nAny variable `x` can be assigned a unit as follows:\n    from metpy.units import units\n    x = units.Quantity(x, \"m/s\")"
          ]
        }
      ]
    },
    {
      "cell_type": "code",
      "source": [
        "!pip install ipympl\n",
        "%matplotlib widget\n",
        "import ipywidgets as widgets\n",
        "import matplotlib.pyplot as plt\n",
        "import numpy as np"
      ],
      "metadata": {
        "id": "y3CTId0d1Zv2"
      },
      "execution_count": null,
      "outputs": []
    },
    {
      "cell_type": "code",
      "source": [
        "# set up plot\n",
        "fig, ax = plt.subplots(figsize=(6, 4))\n",
        "ax.set_ylim([-4, 4])\n",
        "ax.grid(True)\n",
        " \n",
        "# generate x values\n",
        "x = np.linspace(0, 2 * np.pi, 100)\n",
        " \n",
        "from ipywidgets import interact\n",
        "\n",
        "def my_sine(x, w):\n",
        "    \"\"\"\n",
        "    Return a sine for x with angular frequeny w and amplitude amp.\n",
        "    \"\"\"\n",
        "    return w*np.sin(x)\n",
        " \n",
        " \n",
        "# @widgets.interact(w=(0, 10, 1), amp=(0, 4, .1), phi=(0, 2*np.pi+0.01, 0.01))\n",
        "amp=(0, 4, .1)\n",
        "phi=(0, 2*np.pi+0.01, 0.01)\n",
        "\n",
        "def update(w = 4.0):\n",
        "  \"\"\"Remove old lines from plot and plot new one\"\"\"\n",
        "  [l.remove() for l in ax.lines]\n",
        "  ax.plot(x, my_sine(x, w), color='C0')\n",
        "  plt.show()\n",
        "\n",
        "interact(update, w=(-10, 10, 0.1));"
      ],
      "metadata": {
        "id": "-xG_2Tsj1qRS",
        "outputId": "dbcdfce5-4117-4a90-9dae-d540ac8aff74",
        "colab": {
          "base_uri": "https://localhost:8080/",
          "height": 301,
          "referenced_widgets": [
            "c60b8d95c15947f79cc4ba9b7d6e23cb",
            "f3a80d280cdd4403b856fe7530745dfe",
            "c0107d9d82f84783b4954ed40521a437",
            "786746712e5049eeb107f36942752c9e",
            "02954ad7929d418eaa80e4bd35bb23d0",
            "744fbc3ba2854b76a51803c464b508fd",
            "6796d1ab4b7d460fa767e4590e98d60f",
            "eed560de64a24ea1a943bdfd195ee11f"
          ]
        }
      },
      "execution_count": 237,
      "outputs": [
        {
          "output_type": "display_data",
          "data": {
            "application/vnd.jupyter.widget-view+json": {
              "model_id": "c60b8d95c15947f79cc4ba9b7d6e23cb",
              "version_minor": 0,
              "version_major": 2
            },
            "text/plain": [
              "interactive(children=(FloatSlider(value=4.0, description='w', max=10.0, min=-10.0), Output()), _dom_classes=('…"
            ]
          },
          "metadata": {}
        },
        {
          "output_type": "display_data",
          "data": {
            "image/png": "[encoded data removed]",
            "text/plain": [
              "<Figure size 432x288 with 1 Axes>"
            ]
          },
          "metadata": {
            "needs_background": "light"
          }
        }
      ]
    }
  ],
  "metadata": {
    "colab": {
      "collapsed_sections": [],
      "name": "f160.ipynb",
      "provenance": [],
      "authorship_tag": "ABX9TyMnUcsXje3uluRb/ncbIoqT",
      "include_colab_link": true
    },
    "kernelspec": {
      "display_name": "Python 3",
      "name": "python3"
    },
    "language_info": {
      "name": "python"
    },
    "widgets": {
      "application/vnd.jupyter.widget-state+json": {
        "a1ada928bf5240d7bbf14ea8d921eb7c": {
          "model_module": "@jupyter-widgets/controls",
          "model_name": "FileUploadModel",
          "model_module_version": "1.5.0",
          "state": {
            "_view_name": "FileUploadView",
            "_counter": 1,
            "style": "IPY_MODEL_682e3086301d4df685c445506538748b",
            "_dom_classes": [],
            "description": "Upload",
            "multiple": true,
            "_model_name": "FileUploadModel",
            "data": [
              null
            ],
            "button_style": "",
            "_view_module": "@jupyter-widgets/controls",
            "_model_module_version": "1.5.0",
            "accept": ".bfr",
            "_view_count": null,
            "disabled": false,
            "_view_module_version": "1.5.0",
            "error": "",
            "description_tooltip": null,
            "metadata": [
              {
                "name": "bufr309052_all_20211209_0152_9.bfr",
                "type": "",
                "size": 72921,
                "lastModified": 1638979800000
              }
            ],
            "_model_module": "@jupyter-widgets/controls",
            "layout": "IPY_MODEL_0e24289e0d2a42b3b2ac47efc51bf0b8",
            "icon": "upload"
          }
        },
        "682e3086301d4df685c445506538748b": {
          "model_module": "@jupyter-widgets/controls",
          "model_name": "ButtonStyleModel",
          "model_module_version": "1.5.0",
          "state": {
            "_view_name": "StyleView",
            "_model_name": "ButtonStyleModel",
            "_view_module": "@jupyter-widgets/base",
            "_model_module_version": "1.5.0",
            "_view_count": null,
            "button_color": null,
            "font_weight": "",
            "_view_module_version": "1.2.0",
            "_model_module": "@jupyter-widgets/controls"
          }
        },
        "0e24289e0d2a42b3b2ac47efc51bf0b8": {
          "model_module": "@jupyter-widgets/base",
          "model_name": "LayoutModel",
          "model_module_version": "1.2.0",
          "state": {
            "_view_name": "LayoutView",
            "grid_template_rows": null,
            "right": null,
            "justify_content": null,
            "_view_module": "@jupyter-widgets/base",
            "overflow": null,
            "_model_module_version": "1.2.0",
            "_view_count": null,
            "flex_flow": null,
            "width": null,
            "min_width": null,
            "border": null,
            "align_items": null,
            "bottom": null,
            "_model_module": "@jupyter-widgets/base",
            "top": null,
            "grid_column": null,
            "overflow_y": null,
            "overflow_x": null,
            "grid_auto_flow": null,
            "grid_area": null,
            "grid_template_columns": null,
            "flex": null,
            "_model_name": "LayoutModel",
            "justify_items": null,
            "grid_row": null,
            "max_height": null,
            "align_content": null,
            "visibility": null,
            "align_self": null,
            "height": null,
            "min_height": null,
            "padding": null,
            "grid_auto_rows": null,
            "grid_gap": null,
            "max_width": null,
            "order": null,
            "_view_module_version": "1.2.0",
            "grid_template_areas": null,
            "object_position": null,
            "object_fit": null,
            "grid_auto_columns": null,
            "margin": null,
            "display": null,
            "left": null
          }
        },
        "0c35dcfd668a4133ad38ca65b566908b": {
          "model_module": "@jupyter-widgets/controls",
          "model_name": "FloatSliderModel",
          "model_module_version": "1.5.0",
          "state": {
            "_view_name": "FloatSliderView",
            "style": "IPY_MODEL_74d22cd327c8494c9d4bc97d779f4777",
            "_dom_classes": [],
            "description": "",
            "step": 0.1,
            "_model_name": "FloatSliderModel",
            "orientation": "horizontal",
            "max": 50,
            "_view_module": "@jupyter-widgets/controls",
            "_model_module_version": "1.5.0",
            "value": 35.3,
            "_view_count": null,
            "disabled": false,
            "_view_module_version": "1.5.0",
            "min": -10,
            "continuous_update": true,
            "readout_format": ".2f",
            "description_tooltip": null,
            "readout": true,
            "_model_module": "@jupyter-widgets/controls",
            "layout": "IPY_MODEL_0d5d8e00011c4da1a0f401fcdf7b4f06"
          }
        },
        "74d22cd327c8494c9d4bc97d779f4777": {
          "model_module": "@jupyter-widgets/controls",
          "model_name": "SliderStyleModel",
          "model_module_version": "1.5.0",
          "state": {
            "_view_name": "StyleView",
            "handle_color": null,
            "_model_name": "SliderStyleModel",
            "description_width": "",
            "_view_module": "@jupyter-widgets/base",
            "_model_module_version": "1.5.0",
            "_view_count": null,
            "_view_module_version": "1.2.0",
            "_model_module": "@jupyter-widgets/controls"
          }
        },
        "0d5d8e00011c4da1a0f401fcdf7b4f06": {
          "model_module": "@jupyter-widgets/base",
          "model_name": "LayoutModel",
          "model_module_version": "1.2.0",
          "state": {
            "_view_name": "LayoutView",
            "grid_template_rows": null,
            "right": null,
            "justify_content": null,
            "_view_module": "@jupyter-widgets/base",
            "overflow": null,
            "_model_module_version": "1.2.0",
            "_view_count": null,
            "flex_flow": null,
            "width": null,
            "min_width": null,
            "border": null,
            "align_items": null,
            "bottom": null,
            "_model_module": "@jupyter-widgets/base",
            "top": null,
            "grid_column": null,
            "overflow_y": null,
            "overflow_x": null,
            "grid_auto_flow": null,
            "grid_area": null,
            "grid_template_columns": null,
            "flex": null,
            "_model_name": "LayoutModel",
            "justify_items": null,
            "grid_row": null,
            "max_height": null,
            "align_content": null,
            "visibility": null,
            "align_self": null,
            "height": null,
            "min_height": null,
            "padding": null,
            "grid_auto_rows": null,
            "grid_gap": null,
            "max_width": null,
            "order": null,
            "_view_module_version": "1.2.0",
            "grid_template_areas": null,
            "object_position": null,
            "object_fit": null,
            "grid_auto_columns": null,
            "margin": null,
            "display": null,
            "left": null
          }
        },
        "c60b8d95c15947f79cc4ba9b7d6e23cb": {
          "model_module": "@jupyter-widgets/controls",
          "model_name": "VBoxModel",
          "model_module_version": "1.5.0",
          "state": {
            "_view_name": "VBoxView",
            "_dom_classes": [
              "widget-interact"
            ],
            "_model_name": "VBoxModel",
            "_view_module": "@jupyter-widgets/controls",
            "_model_module_version": "1.5.0",
            "_view_count": null,
            "_view_module_version": "1.5.0",
            "box_style": "",
            "layout": "IPY_MODEL_f3a80d280cdd4403b856fe7530745dfe",
            "_model_module": "@jupyter-widgets/controls",
            "children": [
              "IPY_MODEL_c0107d9d82f84783b4954ed40521a437",
              "IPY_MODEL_786746712e5049eeb107f36942752c9e"
            ]
          }
        },
        "f3a80d280cdd4403b856fe7530745dfe": {
          "model_module": "@jupyter-widgets/base",
          "model_name": "LayoutModel",
          "model_module_version": "1.2.0",
          "state": {
            "_view_name": "LayoutView",
            "grid_template_rows": null,
            "right": null,
            "justify_content": null,
            "_view_module": "@jupyter-widgets/base",
            "overflow": null,
            "_model_module_version": "1.2.0",
            "_view_count": null,
            "flex_flow": null,
            "width": null,
            "min_width": null,
            "border": null,
            "align_items": null,
            "bottom": null,
            "_model_module": "@jupyter-widgets/base",
            "top": null,
            "grid_column": null,
            "overflow_y": null,
            "overflow_x": null,
            "grid_auto_flow": null,
            "grid_area": null,
            "grid_template_columns": null,
            "flex": null,
            "_model_name": "LayoutModel",
            "justify_items": null,
            "grid_row": null,
            "max_height": null,
            "align_content": null,
            "visibility": null,
            "align_self": null,
            "height": null,
            "min_height": null,
            "padding": null,
            "grid_auto_rows": null,
            "grid_gap": null,
            "max_width": null,
            "order": null,
            "_view_module_version": "1.2.0",
            "grid_template_areas": null,
            "object_position": null,
            "object_fit": null,
            "grid_auto_columns": null,
            "margin": null,
            "display": null,
            "left": null
          }
        },
        "c0107d9d82f84783b4954ed40521a437": {
          "model_module": "@jupyter-widgets/controls",
          "model_name": "FloatSliderModel",
          "model_module_version": "1.5.0",
          "state": {
            "_view_name": "FloatSliderView",
            "style": "IPY_MODEL_02954ad7929d418eaa80e4bd35bb23d0",
            "_dom_classes": [],
            "description": "w",
            "step": 0.1,
            "_model_name": "FloatSliderModel",
            "orientation": "horizontal",
            "max": 10,
            "_view_module": "@jupyter-widgets/controls",
            "_model_module_version": "1.5.0",
            "value": -3.5,
            "_view_count": null,
            "disabled": false,
            "_view_module_version": "1.5.0",
            "min": -10,
            "continuous_update": true,
            "readout_format": ".2f",
            "description_tooltip": null,
            "readout": true,
            "_model_module": "@jupyter-widgets/controls",
            "layout": "IPY_MODEL_744fbc3ba2854b76a51803c464b508fd"
          }
        },
        "786746712e5049eeb107f36942752c9e": {
          "model_module": "@jupyter-widgets/output",
          "model_name": "OutputModel",
          "model_module_version": "1.0.0",
          "state": {
            "_view_name": "OutputView",
            "msg_id": "",
            "_dom_classes": [],
            "_model_name": "OutputModel",
            "outputs": [
              {
                "output_type": "display_data",
                "data": {
                  "image/png": "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",
                  "application/vnd.jupyter.widget-view+json": {
                    "model_id": "6796d1ab4b7d460fa767e4590e98d60f",
                    "version_minor": 0,
                    "version_major": 2
                  },
                  "text/html": "\n            <div style=\"display: inline-block;\">\n                <div class=\"jupyter-widgets widget-label\" style=\"text-align: center;\">\n                    Figure\n                </div>\n                <img src='data:image/png;base64,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' width=432.0/>\n            </div>\n        ",
                  "text/plain": "Canvas(toolbar=Toolbar(toolitems=[('Home', 'Reset original view', 'home', 'home'), ('Back', 'Back to previous …"
                },
                "metadata": {}
              }
            ],
            "_view_module": "@jupyter-widgets/output",
            "_model_module_version": "1.0.0",
            "_view_count": null,
            "_view_module_version": "1.0.0",
            "layout": "IPY_MODEL_eed560de64a24ea1a943bdfd195ee11f",
            "_model_module": "@jupyter-widgets/output"
          }
        },
        "02954ad7929d418eaa80e4bd35bb23d0": {
          "model_module": "@jupyter-widgets/controls",
          "model_name": "SliderStyleModel",
          "model_module_version": "1.5.0",
          "state": {
            "_view_name": "StyleView",
            "handle_color": null,
            "_model_name": "SliderStyleModel",
            "description_width": "",
            "_view_module": "@jupyter-widgets/base",
            "_model_module_version": "1.5.0",
            "_view_count": null,
            "_view_module_version": "1.2.0",
            "_model_module": "@jupyter-widgets/controls"
          }
        },
        "744fbc3ba2854b76a51803c464b508fd": {
          "model_module": "@jupyter-widgets/base",
          "model_name": "LayoutModel",
          "model_module_version": "1.2.0",
          "state": {
            "_view_name": "LayoutView",
            "grid_template_rows": null,
            "right": null,
            "justify_content": null,
            "_view_module": "@jupyter-widgets/base",
            "overflow": null,
            "_model_module_version": "1.2.0",
            "_view_count": null,
            "flex_flow": null,
            "width": null,
            "min_width": null,
            "border": null,
            "align_items": null,
            "bottom": null,
            "_model_module": "@jupyter-widgets/base",
            "top": null,
            "grid_column": null,
            "overflow_y": null,
            "overflow_x": null,
            "grid_auto_flow": null,
            "grid_area": null,
            "grid_template_columns": null,
            "flex": null,
            "_model_name": "LayoutModel",
            "justify_items": null,
            "grid_row": null,
            "max_height": null,
            "align_content": null,
            "visibility": null,
            "align_self": null,
            "height": null,
            "min_height": null,
            "padding": null,
            "grid_auto_rows": null,
            "grid_gap": null,
            "max_width": null,
            "order": null,
            "_view_module_version": "1.2.0",
            "grid_template_areas": null,
            "object_position": null,
            "object_fit": null,
            "grid_auto_columns": null,
            "margin": null,
            "display": null,
            "left": null
          }
        },
        "6796d1ab4b7d460fa767e4590e98d60f": {
          "model_module": "jupyter-matplotlib",
          "model_name": "MPLCanvasModel",
          "model_module_version": "^0.10.4",
          "state": {
            "_view_name": "MPLCanvasView",
            "pan_zoom_throttle": 33,
            "_view_module": "jupyter-matplotlib",
            "_figure_label": "Figure",
            "_view_count": null,
            "_size": [
              432,
              288
            ],
            "_cursor": "pointer",
            "capture_scroll": false,
            "layout": "IPY_MODEL_4dacd84cf1b44bca9ca2d6e8b0d39400",
            "_model_module": "jupyter-matplotlib",
            "footer_visible": true,
            "_image_mode": "full",
            "_dom_classes": [],
            "resizable": true,
            "_model_name": "MPLCanvasModel",
            "header_visible": true,
            "_model_module_version": "^0.10.4",
            "_rubberband_x": 0,
            "_rubberband_y": 0,
            "toolbar": "IPY_MODEL_d50c722ec4894d4e81264664406f15f8",
            "_data_url": "data:image/png;base64,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",
            "toolbar_visible": "fade-in-fade-out",
            "_rubberband_width": 0,
            "_message": "",
            "_rubberband_height": 0,
            "_view_module_version": "^0.10.4",
            "toolbar_position": "left"
          }
        },
        "eed560de64a24ea1a943bdfd195ee11f": {
          "model_module": "@jupyter-widgets/base",
          "model_name": "LayoutModel",
          "model_module_version": "1.2.0",
          "state": {
            "_view_name": "LayoutView",
            "grid_template_rows": null,
            "right": null,
            "justify_content": null,
            "_view_module": "@jupyter-widgets/base",
            "overflow": null,
            "_model_module_version": "1.2.0",
            "_view_count": null,
            "flex_flow": null,
            "width": null,
            "min_width": null,
            "border": null,
            "align_items": null,
            "bottom": null,
            "_model_module": "@jupyter-widgets/base",
            "top": null,
            "grid_column": null,
            "overflow_y": null,
            "overflow_x": null,
            "grid_auto_flow": null,
            "grid_area": null,
            "grid_template_columns": null,
            "flex": null,
            "_model_name": "LayoutModel",
            "justify_items": null,
            "grid_row": null,
            "max_height": null,
            "align_content": null,
            "visibility": null,
            "align_self": null,
            "height": null,
            "min_height": null,
            "padding": null,
            "grid_auto_rows": null,
            "grid_gap": null,
            "max_width": null,
            "order": null,
            "_view_module_version": "1.2.0",
            "grid_template_areas": null,
            "object_position": null,
            "object_fit": null,
            "grid_auto_columns": null,
            "margin": null,
            "display": null,
            "left": null
          }
        }
      }
    }
  },
  "nbformat": 4,
  "nbformat_minor": 0
}